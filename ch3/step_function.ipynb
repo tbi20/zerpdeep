{
 "cells": [
  {
   "cell_type": "code",
   "execution_count": 8,
   "metadata": {},
   "outputs": [
    {
     "name": "stdout",
     "output_type": "stream",
     "text": [
      "[ -5.00000000e+00  -4.80000000e+00  -4.60000000e+00  -4.40000000e+00\n",
      "  -4.20000000e+00  -4.00000000e+00  -3.80000000e+00  -3.60000000e+00\n",
      "  -3.40000000e+00  -3.20000000e+00  -3.00000000e+00  -2.80000000e+00\n",
      "  -2.60000000e+00  -2.40000000e+00  -2.20000000e+00  -2.00000000e+00\n",
      "  -1.80000000e+00  -1.60000000e+00  -1.40000000e+00  -1.20000000e+00\n",
      "  -1.00000000e+00  -8.00000000e-01  -6.00000000e-01  -4.00000000e-01\n",
      "  -2.00000000e-01   4.44089210e-15   2.00000000e-01   4.00000000e-01\n",
      "   6.00000000e-01   8.00000000e-01   1.00000000e+00   1.20000000e+00\n",
      "   1.40000000e+00   1.60000000e+00   1.80000000e+00   2.00000000e+00\n",
      "   2.20000000e+00   2.40000000e+00   2.60000000e+00   2.80000000e+00\n",
      "   3.00000000e+00   3.20000000e+00   3.40000000e+00   3.60000000e+00\n",
      "   3.80000000e+00   4.00000000e+00   4.20000000e+00   4.40000000e+00\n",
      "   4.60000000e+00   4.80000000e+00]\n"
     ]
    },
    {
     "data": {
      "image/png": "[encoded data removed]",
      "text/plain": [
       "<matplotlib.figure.Figure at 0x110f23940>"
      ]
     },
     "metadata": {},
     "output_type": "display_data"
    }
   ],
   "source": [
    "# coding: utf-8\n",
    "import numpy as np\n",
    "import matplotlib.pylab as plt\n",
    "\n",
    "\n",
    "def step_function(x):\n",
    "    return np.array(x >= 0, dtype=np.int)\n",
    "\n",
    "X = np.arange(-5.0, 5.0, 0.2)\n",
    "Y = step_function(X)\n",
    "print(X)\n",
    "plt.plot(X, Y)\n",
    "plt.ylim(-0.1, 1.1)  # 図で描画するy軸の範囲を指定\n",
    "plt.show()\n"
   ]
  }
 ],
 "metadata": {
  "kernelspec": {
   "display_name": "Python 3",
   "language": "python",
   "name": "python3"
  },
  "language_info": {
   "codemirror_mode": {
    "name": "ipython",
    "version": 3
   },
   "file_extension": ".py",
   "mimetype": "text/x-python",
   "name": "python",
   "nbconvert_exporter": "python",
   "pygments_lexer": "ipython3",
   "version": "3.5.2"
  }
 },
 "nbformat": 4,
 "nbformat_minor": 2
}
